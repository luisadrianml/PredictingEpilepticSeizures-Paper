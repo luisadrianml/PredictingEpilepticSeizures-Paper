{
 "cells": [
  {
   "cell_type": "markdown",
   "metadata": {},
   "source": [
    "# Data Mining Project: Epileptic Seizures"
   ]
  },
  {
   "cell_type": "markdown",
   "metadata": {
    "collapsed": true
   },
   "source": [
    "## Pre-processing"
   ]
  },
  {
   "cell_type": "markdown",
   "metadata": {},
   "source": [
    "### Import packages"
   ]
  },
  {
   "cell_type": "code",
   "execution_count": 1,
   "metadata": {},
   "outputs": [],
   "source": [
    "import numpy as np\n",
    "import pandas as pd\n",
    "from sklearn.model_selection import train_test_split\n",
    "from sklearn.tree import DecisionTreeClassifier\n",
    "from sklearn import tree,metrics\n",
    "from sklearn.neighbors import KNeighborsClassifier\n",
    "from sklearn.ensemble import RandomForestClassifier\n",
    "from sklearn.ensemble import GradientBoostingClassifier\n",
    "from sklearn.neural_network import MLPClassifier\n",
    "from sklearn.model_selection import GridSearchCV\n",
    "from sklearn.naive_bayes import GaussianNB\n",
    "from sklearn.preprocessing import StandardScaler\n",
    "from sklearn.decomposition import PCA\n",
    "import matplotlib.pyplot as plt\n",
    "import seaborn as sns; sns.set()\n",
    "from sklearn.decomposition import KernelPCA\n",
    "from sklearn.manifold import TSNE\n",
    "\n",
    "from sklearn.feature_selection import SelectKBest\n",
    "from sklearn.feature_selection import f_classif\n",
    "\n",
    "import matplotlib.pyplot as plt\n",
    "import matplotlib.patches as mpatches\n",
    "\n",
    "import itertools"
   ]
  },
  {
   "cell_type": "markdown",
   "metadata": {},
   "source": [
    "### Read Data"
   ]
  },
  {
   "cell_type": "code",
   "execution_count": 2,
   "metadata": {},
   "outputs": [
    {
     "name": "stdout",
     "output_type": "stream",
     "text": [
      "Dataset Lenght::  11500\n",
      "Dataset Shape::  (11500, 180)\n",
      "Dataset::     Unnamed: 0   X1   X2   X3   X4   X5   X6   X7   X8   X9 ...  X170  X171  \\\n",
      "0  X21.V1.791  135  190  229  223  192  125   55   -9  -33 ...   -17   -15   \n",
      "1  X15.V1.924  386  382  356  331  320  315  307  272  244 ...   164   150   \n",
      "2     X8.V1.1  -32  -39  -47  -37  -32  -36  -57  -73  -85 ...    57    64   \n",
      "3   X16.V1.60 -105 -101  -96  -92  -89  -95 -102 -100  -87 ...   -82   -81   \n",
      "4   X20.V1.54   -9  -65  -98 -102  -78  -48  -16    0  -21 ...     4     2   \n",
      "\n",
      "   X172  X173  X174  X175  X176  X177  X178  y  \n",
      "0   -31   -77  -103  -127  -116   -83   -51  4  \n",
      "1   146   152   157   156   154   143   129  1  \n",
      "2    48    19   -12   -30   -35   -35   -36  5  \n",
      "3   -80   -77   -85   -77   -72   -69   -65  5  \n",
      "4   -12   -32   -41   -65   -83   -89   -73  5  \n",
      "\n",
      "[5 rows x 180 columns]\n"
     ]
    }
   ],
   "source": [
    "data = pd.read_csv('data.csv',\n",
    "                           sep= ',')\n",
    "\n",
    "print (\"Dataset Lenght:: \", len(data))\n",
    "print (\"Dataset Shape:: \", data.shape)\n",
    "\n",
    "print (\"Dataset:: \",\n",
    "data.head())\n"
   ]
  },
  {
   "cell_type": "markdown",
   "metadata": {},
   "source": [
    "#### Check null values"
   ]
  },
  {
   "cell_type": "code",
   "execution_count": 3,
   "metadata": {},
   "outputs": [
    {
     "data": {
      "text/plain": [
       "Unnamed: 0    0\n",
       "X1            0\n",
       "X2            0\n",
       "X3            0\n",
       "X4            0\n",
       "X5            0\n",
       "X6            0\n",
       "X7            0\n",
       "X8            0\n",
       "X9            0\n",
       "X10           0\n",
       "X11           0\n",
       "X12           0\n",
       "X13           0\n",
       "X14           0\n",
       "X15           0\n",
       "X16           0\n",
       "X17           0\n",
       "X18           0\n",
       "X19           0\n",
       "X20           0\n",
       "X21           0\n",
       "X22           0\n",
       "X23           0\n",
       "X24           0\n",
       "X25           0\n",
       "X26           0\n",
       "X27           0\n",
       "X28           0\n",
       "X29           0\n",
       "             ..\n",
       "X150          0\n",
       "X151          0\n",
       "X152          0\n",
       "X153          0\n",
       "X154          0\n",
       "X155          0\n",
       "X156          0\n",
       "X157          0\n",
       "X158          0\n",
       "X159          0\n",
       "X160          0\n",
       "X161          0\n",
       "X162          0\n",
       "X163          0\n",
       "X164          0\n",
       "X165          0\n",
       "X166          0\n",
       "X167          0\n",
       "X168          0\n",
       "X169          0\n",
       "X170          0\n",
       "X171          0\n",
       "X172          0\n",
       "X173          0\n",
       "X174          0\n",
       "X175          0\n",
       "X176          0\n",
       "X177          0\n",
       "X178          0\n",
       "y             0\n",
       "Length: 180, dtype: int64"
      ]
     },
     "execution_count": 3,
     "metadata": {},
     "output_type": "execute_result"
    }
   ],
   "source": [
    "data.isnull().sum()"
   ]
  },
  {
   "cell_type": "markdown",
   "metadata": {},
   "source": [
    "### Graphic Function"
   ]
  },
  {
   "cell_type": "code",
   "execution_count": null,
   "metadata": {
    "collapsed": true
   },
   "outputs": [],
   "source": [
    "def scatter(x, colors):\n",
    "    \"\"\"this function plots the result\n",
    "    - x is a two dimensional vector\n",
    "    - colors is a code that tells how to color them: it corresponds to the target\n",
    "    \"\"\"\n",
    "    \n",
    "    # We choose a color palette with seaborn.\n",
    "    palette = np.array(sns.color_palette(\"hls\", 6)[::-1])\n",
    "\n",
    "    # We create a scatter plot.\n",
    "    f = plt.figure(figsize=(10, 8))\n",
    "    ax = plt.subplot(aspect='equal')\n",
    "    sc = ax.scatter(x[:,0], x[:,1], lw=0, s=40,\n",
    "                    c=palette[colors.astype(np.int)]\n",
    "                   )\n",
    "    \n",
    "    ax.axis('off') # the axis will not be shown\n",
    "    ax.axis('tight') # makes sure all data is shown\n",
    "    \n",
    "    # set title\n",
    "    plt.title(\"Epilepsy detection\", fontsize=25)\n",
    "    \n",
    "    # legend with color patches\n",
    "    epilepsy_patch = mpatches.Patch(color=palette[1], label='Epileptic Seizure Activity')\n",
    "    normal_patch = mpatches.Patch(color=palette[2], label='Tumor area: Healthy Brain Activity')\n",
    "    normal2_patch = mpatches.Patch(color=palette[3], label='Tumor inside Brain: Healthy Brain Activity')\n",
    "    normal3_patch = mpatches.Patch(color=palette[4], label='Eyes Closed: Healthy Brain')\n",
    "    normal4_patch = mpatches.Patch(color=palette[5], label='Eyes Open: Healthy Brain')\n",
    "\n",
    "    plt.legend(handles=[epilepsy_patch, normal_patch, normal2_patch, normal3_patch, normal4_patch], fontsize=8, loc=1)\n",
    "\n",
    "    return f, ax, sc"
   ]
  },
  {
   "cell_type": "markdown",
   "metadata": {},
   "source": [
    "#### Separating features from class"
   ]
  },
  {
   "cell_type": "code",
   "execution_count": 3,
   "metadata": {},
   "outputs": [],
   "source": [
    "X = data.values[:, 1:178].astype(int)\n",
    "Y = data.values[:,179].astype(int)"
   ]
  },
  {
   "cell_type": "markdown",
   "metadata": {},
   "source": [
    "#####  Selecting features from Correlation Subset by Weka"
   ]
  },
  {
   "cell_type": "code",
   "execution_count": 157,
   "metadata": {},
   "outputs": [],
   "source": [
    "DataCorrelation = data[['X1','X7','X11','X12','X26','X35','X43','X44','X61','X72','X83','X94','X95','X103','X125','X137','X149','X158','X160','X173','X178','y']]\n",
    "X_corr = DataCorrelation.values[:,0:20].astype(int)\n",
    "Y_corr = DataCorrelation.values[:,21].astype(int)"
   ]
  },
  {
   "cell_type": "markdown",
   "metadata": {},
   "source": [
    "Feature selection by https://www.cs.waikato.ac.nz/~mhall/thesis.pdf\n",
    "1,7,11,12,26,35,43,44,61,72,83,94,95,103,125,137,149,158,160,173,178 : 21\n",
    "                     X1\n",
    "                     X7\n",
    "                     X11\n",
    "                     X12\n",
    "                     X26\n",
    "                     X35\n",
    "                     X43\n",
    "                     X44\n",
    "                     X61\n",
    "                     X72\n",
    "                     X83\n",
    "                     X94\n",
    "                     X95\n",
    "                     X103\n",
    "                     X125\n",
    "                     X137\n",
    "                     X149\n",
    "                     X158\n",
    "                     X160\n",
    "                     X173\n",
    "                     X178\n"
   ]
  },
  {
   "cell_type": "markdown",
   "metadata": {
    "collapsed": true
   },
   "source": [
    "#### Implementing PCA with 2 Components"
   ]
  },
  {
   "cell_type": "code",
   "execution_count": 57,
   "metadata": {},
   "outputs": [
    {
     "data": {
      "image/png": "[encoded data removed]",
      "text/plain": [
       "<matplotlib.figure.Figure at 0x280b5ffc320>"
      ]
     },
     "metadata": {},
     "output_type": "display_data"
    }
   ],
   "source": [
    "pca = PCA(n_components=2)\n",
    "principalComponents = pca.fit_transform(X)\n",
    "scatter(principalComponents, Y)\n",
    "plt.show()"
   ]
  },
  {
   "cell_type": "markdown",
   "metadata": {},
   "source": [
    "#### Implemeting PCA with 100% explained variance"
   ]
  },
  {
   "cell_type": "code",
   "execution_count": 59,
   "metadata": {},
   "outputs": [
    {
     "data": {
      "image/png": "[encoded data removed]",
      "text/plain": [
       "<matplotlib.figure.Figure at 0x280b68e4ac8>"
      ]
     },
     "metadata": {},
     "output_type": "display_data"
    }
   ],
   "source": [
    "pca = PCA().fit(X)\n",
    "plt.plot(np.cumsum(pca.explained_variance_ratio_))\n",
    "plt.xlabel('number of components')\n",
    "plt.ylabel('cumulative explained variance');\n",
    "plt.show()"
   ]
  },
  {
   "cell_type": "code",
   "execution_count": 60,
   "metadata": {
    "collapsed": true
   },
   "outputs": [],
   "source": [
    "pca50 = PCA(n_components=50)\n",
    "principalComponents50 = pca.fit_transform(X)"
   ]
  },
  {
   "cell_type": "markdown",
   "metadata": {},
   "source": [
    "#### Implementing T-SNE"
   ]
  },
  {
   "cell_type": "code",
   "execution_count": 45,
   "metadata": {},
   "outputs": [
    {
     "data": {
      "image/png": "[encoded data removed]",
      "text/plain": [
       "<matplotlib.figure.Figure at 0x280b42d2668>"
      ]
     },
     "metadata": {},
     "output_type": "display_data"
    }
   ],
   "source": [
    "epileptic_proj = TSNE(random_state=42).fit_transform(X)\n",
    "epileptic_proj.shape\n",
    "scatter(epileptic_proj, Y)\n",
    "plt.show()"
   ]
  },
  {
   "cell_type": "markdown",
   "metadata": {},
   "source": [
    "#### Creating training, validation and test set"
   ]
  },
  {
   "cell_type": "code",
   "execution_count": 158,
   "metadata": {
    "collapsed": true
   },
   "outputs": [],
   "source": [
    "X_train, X_test, y_train, y_test = train_test_split( X, Y, test_size = 0.34, random_state = 42)\n",
    "X_train, X_val, y_train, y_val = train_test_split( X_train, y_train, test_size = 0.34, random_state = 42)"
   ]
  },
  {
   "cell_type": "markdown",
   "metadata": {},
   "source": [
    "#### Creating training, validation and test set for Correlation Subset"
   ]
  },
  {
   "cell_type": "code",
   "execution_count": 159,
   "metadata": {
    "collapsed": true
   },
   "outputs": [],
   "source": [
    "X_trainCorr, X_testCorr, y_trainCorr, y_testCorr = train_test_split( X_corr, Y_corr, test_size = 0.34, random_state = 42)\n",
    "X_trainCorr, X_valCorr, y_trainCorr, y_valCorr = train_test_split( X_trainCorr, y_trainCorr, test_size = 0.34, random_state = 42)"
   ]
  },
  {
   "cell_type": "markdown",
   "metadata": {},
   "source": [
    "#### Creating training, validation and test set with PCA"
   ]
  },
  {
   "cell_type": "code",
   "execution_count": 61,
   "metadata": {
    "collapsed": true
   },
   "outputs": [],
   "source": [
    "X_trainPCA, X_testPCA, y_trainPCA, y_testPCA = train_test_split(principalComponents, Y, test_size = 0.34, random_state = 42)\n",
    "X_trainPCA, X_valPCA, y_trainPCA, y_valPCA = train_test_split( X_trainPCA, y_trainPCA, test_size = 0.34, random_state = 42)"
   ]
  },
  {
   "cell_type": "markdown",
   "metadata": {},
   "source": [
    "#### Creating training, validation and test set with PCA 50 Components"
   ]
  },
  {
   "cell_type": "code",
   "execution_count": 62,
   "metadata": {
    "collapsed": true
   },
   "outputs": [],
   "source": [
    "X_trainPCA50, X_testPCA50, y_trainPCA50, y_testPCA50 = train_test_split(principalComponents50, Y, test_size = 0.34, random_state = 42)\n",
    "X_trainPCA50, X_valPCA50, y_trainPCA50, y_valPCA50 = train_test_split( X_trainPCA, y_trainPCA, test_size = 0.34, random_state = 42)"
   ]
  },
  {
   "cell_type": "markdown",
   "metadata": {},
   "source": [
    "#### Creating training, validation and test set with TSNE"
   ]
  },
  {
   "cell_type": "code",
   "execution_count": 63,
   "metadata": {
    "collapsed": true
   },
   "outputs": [],
   "source": [
    "X_trainTSNE, X_testTSNE, y_trainTSNE, y_testTSNE = train_test_split(epileptic_proj, Y, test_size = 0.34, random_state = 42)\n",
    "X_trainTSNE, X_valTSNE, y_trainTSNE, y_valTSNE = train_test_split( X_trainTSNE, y_trainTSNE, test_size = 0.34, random_state = 42)"
   ]
  },
  {
   "cell_type": "markdown",
   "metadata": {},
   "source": [
    "### Metrics"
   ]
  },
  {
   "cell_type": "markdown",
   "metadata": {},
   "source": [
    "#### Confusion Matrix"
   ]
  },
  {
   "cell_type": "code",
   "execution_count": 7,
   "metadata": {
    "collapsed": true
   },
   "outputs": [],
   "source": [
    "def confusion_matrix(y_test, y_pred):\n",
    "    print(metrics.confusion_matrix(y_test, y_pred))"
   ]
  },
  {
   "cell_type": "code",
   "execution_count": 8,
   "metadata": {
    "collapsed": true
   },
   "outputs": [],
   "source": [
    "def accuracy(y_test, y_pred):\n",
    "    print(metrics.accuracy_score(y_test,y_pred)*100)    "
   ]
  },
  {
   "cell_type": "code",
   "execution_count": 9,
   "metadata": {
    "collapsed": true
   },
   "outputs": [],
   "source": [
    "def classificationreport(y_test, y_pred):\n",
    "    print (metrics.classification_report(y_test, y_pred))"
   ]
  },
  {
   "cell_type": "code",
   "execution_count": 10,
   "metadata": {
    "collapsed": true
   },
   "outputs": [],
   "source": [
    "def allmetrics(y_test,y_pred):\n",
    "    confusion_matrix(y_test,y_pred)\n",
    "    accuracy(y_test,y_pred)\n",
    "    classificationreport(y_test,y_pred)"
   ]
  },
  {
   "cell_type": "markdown",
   "metadata": {},
   "source": [
    "### Decision Tree"
   ]
  },
  {
   "cell_type": "markdown",
   "metadata": {},
   "source": [
    "#### GINI Criterion - Default"
   ]
  },
  {
   "cell_type": "code",
   "execution_count": 73,
   "metadata": {},
   "outputs": [
    {
     "name": "stdout",
     "output_type": "stream",
     "text": [
      "[[365  48  36  41  12]\n",
      " [ 39 169 159  63  99]\n",
      " [ 28 159 179  60  87]\n",
      " [ 27  66  70 227 128]\n",
      " [  3  97 115 128 176]]\n",
      "43.23905463\n",
      "             precision    recall  f1-score   support\n",
      "\n",
      "          1       0.79      0.73      0.76       502\n",
      "          2       0.31      0.32      0.32       529\n",
      "          3       0.32      0.35      0.33       513\n",
      "          4       0.44      0.44      0.44       518\n",
      "          5       0.35      0.34      0.34       519\n",
      "\n",
      "avg / total       0.44      0.43      0.44      2581\n",
      "\n"
     ]
    }
   ],
   "source": [
    "clf_gini = DecisionTreeClassifier(criterion=\"gini\", splitter=\"best\", \n",
    "max_depth=None, min_samples_split=2, min_samples_leaf=1, \n",
    "min_weight_fraction_leaf=0.0, max_features=None, random_state=42, \n",
    "max_leaf_nodes=None, min_impurity_decrease=0.0, min_impurity_split=None, \n",
    "class_weight=None, presort=False\n",
    ")\n",
    "\n",
    "\n",
    "clf_gini.fit(X_train, y_train)\n",
    "\n",
    "y_pred = clf_gini.predict(X_test)\n",
    "\n",
    "allmetrics(y_test,y_pred)"
   ]
  },
  {
   "cell_type": "markdown",
   "metadata": {},
   "source": [
    "#### GINI Criterion with PCA"
   ]
  },
  {
   "cell_type": "code",
   "execution_count": 79,
   "metadata": {},
   "outputs": [
    {
     "name": "stdout",
     "output_type": "stream",
     "text": [
      "[[381  63  25  26   7]\n",
      " [ 55 116 114 120 124]\n",
      " [ 30 127 123 115 118]\n",
      " [ 21 130 121 123 123]\n",
      " [ 11 125 115 130 138]]\n",
      "34.1340565672\n",
      "             precision    recall  f1-score   support\n",
      "\n",
      "          1       0.77      0.76      0.76       502\n",
      "          2       0.21      0.22      0.21       529\n",
      "          3       0.25      0.24      0.24       513\n",
      "          4       0.24      0.24      0.24       518\n",
      "          5       0.27      0.27      0.27       519\n",
      "\n",
      "avg / total       0.34      0.34      0.34      2581\n",
      "\n"
     ]
    }
   ],
   "source": [
    "clf_gini = DecisionTreeClassifier(criterion=\"gini\", splitter=\"best\", \n",
    "max_depth=None, min_samples_split=2, min_samples_leaf=1, \n",
    "min_weight_fraction_leaf=0.0, max_features=None, random_state=42, \n",
    "max_leaf_nodes=None, min_impurity_decrease=0.0, min_impurity_split=None, \n",
    "class_weight=None, presort=False\n",
    ")\n",
    "\n",
    "\n",
    "clf_gini.fit(X_trainPCA, y_trainPCA)\n",
    "\n",
    "y_predPCA = clf_gini.predict(X_testPCA)\n",
    "\n",
    "allmetrics(y_testPCA,y_predPCA)"
   ]
  },
  {
   "cell_type": "markdown",
   "metadata": {},
   "source": [
    "#### GINI Criterion with PCA50"
   ]
  },
  {
   "cell_type": "code",
   "execution_count": 81,
   "metadata": {},
   "outputs": [
    {
     "name": "stdout",
     "output_type": "stream",
     "text": [
      "[[260  22  26   9   4]\n",
      " [ 49  88  62  79  68]\n",
      " [ 25  85  82  85  78]\n",
      " [ 19  81  86  77  89]\n",
      " [  6  84  71  79  89]]\n",
      "34.9970640047\n",
      "             precision    recall  f1-score   support\n",
      "\n",
      "          1       0.72      0.81      0.76       321\n",
      "          2       0.24      0.25      0.25       346\n",
      "          3       0.25      0.23      0.24       355\n",
      "          4       0.23      0.22      0.23       352\n",
      "          5       0.27      0.27      0.27       329\n",
      "\n",
      "avg / total       0.34      0.35      0.34      1703\n",
      "\n"
     ]
    }
   ],
   "source": [
    "clf_gini = DecisionTreeClassifier(criterion=\"gini\", splitter=\"best\", \n",
    "max_depth=None, min_samples_split=2, min_samples_leaf=1, \n",
    "min_weight_fraction_leaf=0.0, max_features=None, random_state=42, \n",
    "max_leaf_nodes=None, min_impurity_decrease=0.0, min_impurity_split=None, \n",
    "class_weight=None, presort=False\n",
    ")\n",
    "\n",
    "\n",
    "clf_gini.fit(X_trainPCA50, y_trainPCA50)\n",
    "\n",
    "y_predPCA50 = clf_gini.predict(X_testPCA50)\n",
    "\n",
    "allmetrics(y_testPCA50,y_predPCA50)"
   ]
  },
  {
   "cell_type": "markdown",
   "metadata": {},
   "source": [
    "#### GINI Criterion with TSNE"
   ]
  },
  {
   "cell_type": "code",
   "execution_count": 160,
   "metadata": {},
   "outputs": [
    {
     "name": "stdout",
     "output_type": "stream",
     "text": [
      "[[398  60  25  15   4]\n",
      " [ 54 221 130  44  80]\n",
      " [ 45 120 225  39  84]\n",
      " [ 11  63  85 257 102]\n",
      " [ 13 102 119  99 186]]\n",
      "49.8643936459\n",
      "             precision    recall  f1-score   support\n",
      "\n",
      "          1       0.76      0.79      0.78       502\n",
      "          2       0.39      0.42      0.40       529\n",
      "          3       0.39      0.44      0.41       513\n",
      "          4       0.57      0.50      0.53       518\n",
      "          5       0.41      0.36      0.38       519\n",
      "\n",
      "avg / total       0.50      0.50      0.50      2581\n",
      "\n"
     ]
    }
   ],
   "source": [
    "clf_gini = DecisionTreeClassifier(criterion=\"gini\", splitter=\"best\", \n",
    "max_depth=None, min_samples_split=2, min_samples_leaf=1, \n",
    "min_weight_fraction_leaf=0.0, max_features=None, random_state=42, \n",
    "max_leaf_nodes=None, min_impurity_decrease=0.0, min_impurity_split=None, \n",
    "class_weight=None, presort=False\n",
    ")\n",
    "\n",
    "\n",
    "clf_gini.fit(X_trainTSNE, y_trainTSNE)\n",
    "\n",
    "y_predTSNE = clf_gini.predict(X_testTSNE)\n",
    "\n",
    "allmetrics(y_testTSNE,y_predTSNE)"
   ]
  },
  {
   "cell_type": "markdown",
   "metadata": {},
   "source": [
    "#### GINI Criterion with Correlation Subset"
   ]
  },
  {
   "cell_type": "code",
   "execution_count": 161,
   "metadata": {},
   "outputs": [
    {
     "name": "stdout",
     "output_type": "stream",
     "text": [
      "[[388  49  31  30   4]\n",
      " [ 47 158 127  88 109]\n",
      " [ 19 126 169  78 121]\n",
      " [ 28  68 105 186 131]\n",
      " [  2 110 130 110 167]]\n",
      "41.3793103448\n",
      "             precision    recall  f1-score   support\n",
      "\n",
      "          1       0.80      0.77      0.79       502\n",
      "          2       0.31      0.30      0.30       529\n",
      "          3       0.30      0.33      0.31       513\n",
      "          4       0.38      0.36      0.37       518\n",
      "          5       0.31      0.32      0.32       519\n",
      "\n",
      "avg / total       0.42      0.41      0.42      2581\n",
      "\n"
     ]
    }
   ],
   "source": [
    "clf_gini = DecisionTreeClassifier(criterion=\"gini\", splitter=\"best\", \n",
    "max_depth=None, min_samples_split=2, min_samples_leaf=1, \n",
    "min_weight_fraction_leaf=0.0, max_features=None, random_state=42, \n",
    "max_leaf_nodes=None, min_impurity_decrease=0.0, min_impurity_split=None, \n",
    "class_weight=None, presort=False\n",
    ")\n",
    "\n",
    "\n",
    "clf_gini.fit(X_trainCorr, y_trainCorr)\n",
    "\n",
    "y_predCorr = clf_gini.predict(X_testCorr)\n",
    "\n",
    "allmetrics(y_testCorr,y_predCorr)"
   ]
  },
  {
   "cell_type": "markdown",
   "metadata": {},
   "source": [
    "#### GINI Criterion with Univariate Selection"
   ]
  },
  {
   "cell_type": "code",
   "execution_count": null,
   "metadata": {
    "collapsed": true
   },
   "outputs": [],
   "source": [
    "rows_list = []\n",
    "for i in range(1,178):\n",
    "    X_kbest = SelectKBest(f_classif, k=i).fit_transform(X, Y)\n",
    "    X_trainK, X_testK, y_trainK, y_testK = train_test_split( X_kbest, Y, test_size = 0.34, random_state = 42)\n",
    "    X_trainK, X_valK, y_trainK, y_valK = train_test_split( X_trainK, y_trainK, test_size = 0.34, random_state = 42)\n",
    "\n",
    "    clf_gini = DecisionTreeClassifier(criterion=\"gini\", splitter=\"best\", \n",
    "    max_depth=None, min_samples_split=2, min_samples_leaf=1, \n",
    "    min_weight_fraction_leaf=0.0, max_features=None, random_state=42, \n",
    "    max_leaf_nodes=None, min_impurity_decrease=0.0, min_impurity_split=None, \n",
    "    class_weight=None, presort=False\n",
    "    )\n",
    "\n",
    "    clf_gini.fit(X_trainK, y_trainK)\n",
    "\n",
    "    y_predK = clf_gini.predict(X_testK)\n",
    "    dict1 = {\"acc\": metrics.accuracy_score(y_testK,y_predK)*100, \n",
    "            \"ind\": i}\n",
    "    rows_list.append(dict1)\n",
    "dfDT = pd.DataFrame(rows_list) "
   ]
  },
  {
   "cell_type": "code",
   "execution_count": null,
   "metadata": {
    "collapsed": true
   },
   "outputs": [],
   "source": [
    "plt.plot(dfDT['ind'], dfDT['acc'])\n",
    "plt.show()"
   ]
  },
  {
   "cell_type": "code",
   "execution_count": 25,
   "metadata": {},
   "outputs": [
    {
     "name": "stdout",
     "output_type": "stream",
     "text": [
      "[[374  50  28  37  13]\n",
      " [ 27 160 172  55 115]\n",
      " [ 27 138 199  51  98]\n",
      " [ 23  59  76 234 126]\n",
      " [  3 109 112 102 193]]\n",
      "44.9438202247\n",
      "             precision    recall  f1-score   support\n",
      "\n",
      "          1       0.82      0.75      0.78       502\n",
      "          2       0.31      0.30      0.31       529\n",
      "          3       0.34      0.39      0.36       513\n",
      "          4       0.49      0.45      0.47       518\n",
      "          5       0.35      0.37      0.36       519\n",
      "\n",
      "avg / total       0.46      0.45      0.45      2581\n",
      "\n"
     ]
    }
   ],
   "source": [
    "X_kbest = SelectKBest(f_classif, k=120).fit_transform(X, Y)\n",
    "X_trainK, X_testK, y_trainK, y_testK = train_test_split( X_kbest, Y, test_size = 0.34, random_state = 42)\n",
    "X_trainK, X_valK, y_trainK, y_valK = train_test_split( X_trainK, y_trainK, test_size = 0.34, random_state = 42)\n",
    "\n",
    "clf_gini = DecisionTreeClassifier(criterion=\"gini\", splitter=\"best\", \n",
    "max_depth=None, min_samples_split=2, min_samples_leaf=1, \n",
    "min_weight_fraction_leaf=0.0, max_features=None, random_state=42, \n",
    "max_leaf_nodes=None, min_impurity_decrease=0.0, min_impurity_split=None, \n",
    "class_weight=None, presort=False\n",
    ")\n",
    "\n",
    "clf_gini.fit(X_trainK, y_trainK)\n",
    "\n",
    "y_predK = clf_gini.predict(X_testK)\n",
    "\n",
    "allmetrics(y_testK,y_predK)"
   ]
  },
  {
   "cell_type": "markdown",
   "metadata": {},
   "source": [
    "#### GINI Criterion Tuning"
   ]
  },
  {
   "cell_type": "code",
   "execution_count": 83,
   "metadata": {},
   "outputs": [
    {
     "name": "stdout",
     "output_type": "stream",
     "text": [
      "[[377  50  23  45   7]\n",
      " [ 42 151 158  77 101]\n",
      " [ 19 158 164  54 118]\n",
      " [ 24  56  60 245 133]\n",
      " [  1  99 105 107 207]]\n",
      "44.323905463\n",
      "             precision    recall  f1-score   support\n",
      "\n",
      "          1       0.81      0.75      0.78       502\n",
      "          2       0.29      0.29      0.29       529\n",
      "          3       0.32      0.32      0.32       513\n",
      "          4       0.46      0.47      0.47       518\n",
      "          5       0.37      0.40      0.38       519\n",
      "\n",
      "avg / total       0.45      0.44      0.45      2581\n",
      "\n"
     ]
    }
   ],
   "source": [
    "clf_gini = DecisionTreeClassifier(criterion=\"gini\", splitter=\"best\", \n",
    "        max_depth=None, min_samples_split=0.01, min_samples_leaf=0.0001, \n",
    "        min_weight_fraction_leaf=0.0, max_features=None, random_state=42, \n",
    "        max_leaf_nodes=None, min_impurity_decrease=0.0, min_impurity_split=None, \n",
    "        class_weight=None, presort=False\n",
    "        )\n",
    "\n",
    "clf_gini.fit(X_train, y_train)\n",
    "y_pred = clf_gini.predict(X_test)   \n",
    "\n",
    "allmetrics(y_test,y_pred)"
   ]
  },
  {
   "cell_type": "markdown",
   "metadata": {},
   "source": [
    "### Nearest Neighbor"
   ]
  },
  {
   "cell_type": "markdown",
   "metadata": {},
   "source": [
    "#### Default k-NN"
   ]
  },
  {
   "cell_type": "code",
   "execution_count": 93,
   "metadata": {},
   "outputs": [
    {
     "name": "stdout",
     "output_type": "stream",
     "text": [
      "[[309 101  62  26   4]\n",
      " [  7 317 194   1  10]\n",
      " [  1 194 307   3   8]\n",
      " [  0 131 162 134  91]\n",
      " [  0 209 274   4  32]]\n",
      "42.5803951957\n",
      "             precision    recall  f1-score   support\n",
      "\n",
      "          1       0.97      0.62      0.75       502\n",
      "          2       0.33      0.60      0.43       529\n",
      "          3       0.31      0.60      0.41       513\n",
      "          4       0.80      0.26      0.39       518\n",
      "          5       0.22      0.06      0.10       519\n",
      "\n",
      "avg / total       0.52      0.43      0.41      2581\n",
      "\n"
     ]
    }
   ],
   "source": [
    "model = KNeighborsClassifier(algorithm='auto', leaf_size=30, metric='minkowski',\n",
    "           metric_params=None, n_jobs=1, n_neighbors=5, p=2,\n",
    "           weights='uniform')\n",
    "model.fit(X_train, y_train)\n",
    "\n",
    "y_pred = model.predict(X_test)\n",
    "predictions = [round(value) for value in y_pred]\n",
    "\n",
    "allmetrics(y_test,y_pred)"
   ]
  },
  {
   "cell_type": "markdown",
   "metadata": {},
   "source": [
    "#### k-NN with PCA"
   ]
  },
  {
   "cell_type": "code",
   "execution_count": 123,
   "metadata": {},
   "outputs": [
    {
     "name": "stdout",
     "output_type": "stream",
     "text": [
      "[[422  39  21  14   6]\n",
      " [ 66 142 141 104  76]\n",
      " [ 40 139 147  99  88]\n",
      " [ 27 154 137 104  96]\n",
      " [  7 132 131 111 138]]\n",
      "36.923672995\n",
      "             precision    recall  f1-score   support\n",
      "\n",
      "          1       0.75      0.84      0.79       502\n",
      "          2       0.23      0.27      0.25       529\n",
      "          3       0.25      0.29      0.27       513\n",
      "          4       0.24      0.20      0.22       518\n",
      "          5       0.34      0.27      0.30       519\n",
      "\n",
      "avg / total       0.36      0.37      0.36      2581\n",
      "\n"
     ]
    }
   ],
   "source": [
    "model = KNeighborsClassifier(algorithm='auto', leaf_size=30, metric='minkowski',\n",
    "           metric_params=None, n_jobs=1, n_neighbors=5, p=2,\n",
    "           weights='uniform')\n",
    "model.fit(X_trainPCA, y_trainPCA)\n",
    "\n",
    "y_predPCA = model.predict(X_testPCA)\n",
    "predictionsPCA = [round(value) for value in y_predPCA]\n",
    "\n",
    "allmetrics(y_testPCA,y_predPCA)"
   ]
  },
  {
   "cell_type": "markdown",
   "metadata": {},
   "source": [
    "#### k-NN with PCA50"
   ]
  },
  {
   "cell_type": "code",
   "execution_count": 96,
   "metadata": {},
   "outputs": [
    {
     "name": "stdout",
     "output_type": "stream",
     "text": [
      "[[274  20  10  11   6]\n",
      " [ 39  97  87  68  55]\n",
      " [ 24 110  93  69  59]\n",
      " [ 16  90 110  65  71]\n",
      " [  8  96  79  69  77]]\n",
      "35.5842630652\n",
      "             precision    recall  f1-score   support\n",
      "\n",
      "          1       0.76      0.85      0.80       321\n",
      "          2       0.23      0.28      0.26       346\n",
      "          3       0.25      0.26      0.25       355\n",
      "          4       0.23      0.18      0.21       352\n",
      "          5       0.29      0.23      0.26       329\n",
      "\n",
      "avg / total       0.35      0.36      0.35      1703\n",
      "\n"
     ]
    }
   ],
   "source": [
    "model = KNeighborsClassifier(algorithm='auto', leaf_size=30, metric='minkowski',\n",
    "           metric_params=None, n_jobs=1, n_neighbors=5, p=2,\n",
    "           weights='uniform')\n",
    "model.fit(X_trainPCA50, y_trainPCA50)\n",
    "\n",
    "y_predPCA50 = model.predict(X_testPCA50)\n",
    "predictionsPCA50 = [round(value) for value in y_predPCA50]\n",
    "\n",
    "allmetrics(y_testPCA50,y_predPCA50)"
   ]
  },
  {
   "cell_type": "markdown",
   "metadata": {},
   "source": [
    "#### k-NN with TSNE"
   ]
  },
  {
   "cell_type": "code",
   "execution_count": 162,
   "metadata": {},
   "outputs": [
    {
     "name": "stdout",
     "output_type": "stream",
     "text": [
      "[[400  51  31  19   1]\n",
      " [ 68 215 126  42  78]\n",
      " [ 55 157 200  41  60]\n",
      " [  6  62  88 272  90]\n",
      " [  3 119 124 110 163]]\n",
      "48.4308407594\n",
      "             precision    recall  f1-score   support\n",
      "\n",
      "          1       0.75      0.80      0.77       502\n",
      "          2       0.36      0.41      0.38       529\n",
      "          3       0.35      0.39      0.37       513\n",
      "          4       0.56      0.53      0.54       518\n",
      "          5       0.42      0.31      0.36       519\n",
      "\n",
      "avg / total       0.49      0.48      0.48      2581\n",
      "\n"
     ]
    }
   ],
   "source": [
    "model = KNeighborsClassifier(algorithm='auto', leaf_size=30, metric='minkowski',\n",
    "           metric_params=None, n_jobs=1, n_neighbors=5, p=2,\n",
    "           weights='uniform')\n",
    "model.fit(X_trainTSNE, y_trainTSNE)\n",
    "\n",
    "y_predTSNE = model.predict(X_testTSNE)\n",
    "predictionsTSNE = [round(value) for value in y_predTSNE]\n",
    "\n",
    "allmetrics(y_testTSNE,y_predTSNE)"
   ]
  },
  {
   "cell_type": "markdown",
   "metadata": {},
   "source": [
    "#### k-NN with Correlation Subset"
   ]
  },
  {
   "cell_type": "code",
   "execution_count": 163,
   "metadata": {},
   "outputs": [
    {
     "name": "stdout",
     "output_type": "stream",
     "text": [
      "[[344  55  45  54   4]\n",
      " [ 11 288 169  19  42]\n",
      " [  1 193 234  21  64]\n",
      " [  0 127 119 150 122]\n",
      " [  0 200 183  25 111]]\n",
      "43.6652460287\n",
      "             precision    recall  f1-score   support\n",
      "\n",
      "          1       0.97      0.69      0.80       502\n",
      "          2       0.33      0.54      0.41       529\n",
      "          3       0.31      0.46      0.37       513\n",
      "          4       0.56      0.29      0.38       518\n",
      "          5       0.32      0.21      0.26       519\n",
      "\n",
      "avg / total       0.50      0.44      0.44      2581\n",
      "\n"
     ]
    }
   ],
   "source": [
    "model = KNeighborsClassifier(algorithm='auto', leaf_size=30, metric='minkowski',\n",
    "           metric_params=None, n_jobs=1, n_neighbors=5, p=2,\n",
    "           weights='uniform')\n",
    "model.fit(X_trainCorr, y_trainCorr)\n",
    "\n",
    "y_predCorr = model.predict(X_testCorr)\n",
    "predictionsCorr = [round(value) for value in y_predCorr]\n",
    "\n",
    "allmetrics(y_testCorr,y_predCorr)"
   ]
  },
  {
   "cell_type": "markdown",
   "metadata": {},
   "source": [
    "#### k-NN with Univariate Selection"
   ]
  },
  {
   "cell_type": "code",
   "execution_count": null,
   "metadata": {},
   "outputs": [],
   "source": [
    "rows_list = []\n",
    "for i in range(1,178):\n",
    "    X_kbest = SelectKBest(f_classif, k=i).fit_transform(X, Y)\n",
    "    X_trainK, X_testK, y_trainK, y_testK = train_test_split( X_kbest, Y, test_size = 0.34, random_state = 42)\n",
    "    X_trainK, X_valK, y_trainK, y_valK = train_test_split( X_trainK, y_trainK, test_size = 0.34, random_state = 42)\n",
    "    model = KNeighborsClassifier(algorithm='auto', leaf_size=30, metric='minkowski',\n",
    "               metric_params=None, n_jobs=1, n_neighbors=5, p=2,\n",
    "               weights='uniform')\n",
    "    model.fit(X_trainK, y_trainK)\n",
    "\n",
    "    y_predK = model.predict(X_testK)\n",
    "    predictionsK = [round(value) for value in y_predK]\n",
    "    dict1 = {\"acc\": metrics.accuracy_score(y_testK,y_predK)*100, \n",
    "            \"ind\": i}\n",
    "    rows_list.append(dict1)\n",
    "dfkNN = pd.DataFrame(rows_list) "
   ]
  },
  {
   "cell_type": "code",
   "execution_count": null,
   "metadata": {
    "collapsed": true
   },
   "outputs": [],
   "source": [
    "plt.plot(dfkNN['ind'], dfkNN['acc'])\n",
    "plt.show()"
   ]
  },
  {
   "cell_type": "code",
   "execution_count": 23,
   "metadata": {},
   "outputs": [
    {
     "name": "stdout",
     "output_type": "stream",
     "text": [
      "[[340  72  46  36   8]\n",
      " [  8 309 172  12  28]\n",
      " [  1 201 267  14  30]\n",
      " [  0 140 138 128 112]\n",
      " [  0 236 196  15  72]]\n",
      "43.23905463\n",
      "             precision    recall  f1-score   support\n",
      "\n",
      "          1       0.97      0.68      0.80       502\n",
      "          2       0.32      0.58      0.42       529\n",
      "          3       0.33      0.52      0.40       513\n",
      "          4       0.62      0.25      0.35       518\n",
      "          5       0.29      0.14      0.19       519\n",
      "\n",
      "avg / total       0.50      0.43      0.43      2581\n",
      "\n"
     ]
    }
   ],
   "source": [
    "X_kbest = SelectKBest(f_classif, k=50).fit_transform(X, Y)\n",
    "X_trainK, X_testK, y_trainK, y_testK = train_test_split( X_kbest, Y, test_size = 0.34, random_state = 42)\n",
    "X_trainK, X_valK, y_trainK, y_valK = train_test_split( X_trainK, y_trainK, test_size = 0.34, random_state = 42)\n",
    "model = KNeighborsClassifier(algorithm='auto', leaf_size=30, metric='minkowski',\n",
    "           metric_params=None, n_jobs=1, n_neighbors=5, p=2,\n",
    "           weights='uniform')\n",
    "model.fit(X_trainK, y_trainK)\n",
    "\n",
    "y_predK = model.predict(X_testK)\n",
    "predictionsK = [round(value) for value in y_predK]\n",
    "\n",
    "allmetrics(y_testK,y_predK)"
   ]
  },
  {
   "cell_type": "markdown",
   "metadata": {},
   "source": [
    "#### k-NN Tuning"
   ]
  },
  {
   "cell_type": "code",
   "execution_count": 91,
   "metadata": {},
   "outputs": [
    {
     "name": "stdout",
     "output_type": "stream",
     "text": [
      "[[338  86  54  19   5]\n",
      " [ 10 322 186   1  10]\n",
      " [  0 195 303   1  14]\n",
      " [  0 143 148 132  95]\n",
      " [  0 236 231   2  50]]\n",
      "44.3626501356\n",
      "             precision    recall  f1-score   support\n",
      "\n",
      "          1       0.97      0.67      0.80       502\n",
      "          2       0.33      0.61      0.43       529\n",
      "          3       0.33      0.59      0.42       513\n",
      "          4       0.85      0.25      0.39       518\n",
      "          5       0.29      0.10      0.14       519\n",
      "\n",
      "avg / total       0.55      0.44      0.43      2581\n",
      "\n"
     ]
    }
   ],
   "source": [
    "# 44.3626501356 k=3 euclidean\n",
    "model = KNeighborsClassifier(algorithm='auto', leaf_size=30, metric='minkowski',\n",
    "               metric_params=None, n_jobs=1, n_neighbors=3, p=2,\n",
    "               weights='uniform')\n",
    "model.fit(X_train, y_train)\n",
    "\n",
    "y_pred = model.predict(X_test)\n",
    "predictions = [round(value) for value in y_pred]\n",
    "\n",
    "allmetrics(y_test,y_pred)"
   ]
  },
  {
   "cell_type": "markdown",
   "metadata": {},
   "source": [
    "### RandomForest"
   ]
  },
  {
   "cell_type": "markdown",
   "metadata": {},
   "source": [
    "#### Default RandomForest"
   ]
  },
  {
   "cell_type": "code",
   "execution_count": 99,
   "metadata": {},
   "outputs": [
    {
     "name": "stdout",
     "output_type": "stream",
     "text": [
      "[[461  14  11  12   4]\n",
      " [ 51 228 150  30  70]\n",
      " [ 28 155 204  42  84]\n",
      " [ 12  56  60 301  89]\n",
      " [  0 122  99  93 205]]\n",
      "54.2037969779\n",
      "             precision    recall  f1-score   support\n",
      "\n",
      "          1       0.84      0.92      0.87       502\n",
      "          2       0.40      0.43      0.41       529\n",
      "          3       0.39      0.40      0.39       513\n",
      "          4       0.63      0.58      0.60       518\n",
      "          5       0.45      0.39      0.42       519\n",
      "\n",
      "avg / total       0.54      0.54      0.54      2581\n",
      "\n"
     ]
    }
   ],
   "source": [
    "rf = RandomForestClassifier(bootstrap=True, class_weight=None, criterion='gini',\n",
    "            max_depth=None, max_features='auto', max_leaf_nodes=None,\n",
    "            min_impurity_decrease=0.0, min_impurity_split=None,\n",
    "            min_samples_leaf=1, min_samples_split=2,\n",
    "            min_weight_fraction_leaf=0.0, n_estimators=10, n_jobs=1,\n",
    "            oob_score=False, random_state=42, verbose=0,\n",
    "            warm_start=False)\n",
    "\n",
    "rf.fit(X_train, y_train)\n",
    "y_pred = rf.predict(X_test)\n",
    "\n",
    "allmetrics(y_test,y_pred)"
   ]
  },
  {
   "cell_type": "markdown",
   "metadata": {},
   "source": [
    "#### RandomForest with PCA"
   ]
  },
  {
   "cell_type": "code",
   "execution_count": 101,
   "metadata": {},
   "outputs": [
    {
     "name": "stdout",
     "output_type": "stream",
     "text": [
      "[[413  37  27  19   6]\n",
      " [ 52 134 127 108 108]\n",
      " [ 40 122 129 117 105]\n",
      " [ 18 117 134 124 125]\n",
      " [  8 119 136 114 142]]\n",
      "36.4974815963\n",
      "             precision    recall  f1-score   support\n",
      "\n",
      "          1       0.78      0.82      0.80       502\n",
      "          2       0.25      0.25      0.25       529\n",
      "          3       0.23      0.25      0.24       513\n",
      "          4       0.26      0.24      0.25       518\n",
      "          5       0.29      0.27      0.28       519\n",
      "\n",
      "avg / total       0.36      0.36      0.36      2581\n",
      "\n"
     ]
    }
   ],
   "source": [
    "rf = RandomForestClassifier(bootstrap=True, class_weight=None, criterion='gini',\n",
    "            max_depth=None, max_features='auto', max_leaf_nodes=None,\n",
    "            min_impurity_decrease=0.0, min_impurity_split=None,\n",
    "            min_samples_leaf=1, min_samples_split=2,\n",
    "            min_weight_fraction_leaf=0.0, n_estimators=10, n_jobs=1,\n",
    "            oob_score=False, random_state=42, verbose=0,\n",
    "            warm_start=False)\n",
    "\n",
    "rf.fit(X_trainPCA, y_trainPCA)\n",
    "y_predPCA = rf.predict(X_testPCA)\n",
    "\n",
    "allmetrics(y_testPCA,y_predPCA)"
   ]
  },
  {
   "cell_type": "markdown",
   "metadata": {},
   "source": [
    "#### RandomForest with PCA50"
   ]
  },
  {
   "cell_type": "code",
   "execution_count": 104,
   "metadata": {},
   "outputs": [
    {
     "name": "stdout",
     "output_type": "stream",
     "text": [
      "[[273  18  11  15   4]\n",
      " [ 39  88  79  84  56]\n",
      " [ 19  86  95  82  73]\n",
      " [ 11  88 112  74  67]\n",
      " [  4  80  76  94  75]]\n",
      "35.5255431591\n",
      "             precision    recall  f1-score   support\n",
      "\n",
      "          1       0.79      0.85      0.82       321\n",
      "          2       0.24      0.25      0.25       346\n",
      "          3       0.25      0.27      0.26       355\n",
      "          4       0.21      0.21      0.21       352\n",
      "          5       0.27      0.23      0.25       329\n",
      "\n",
      "avg / total       0.35      0.36      0.35      1703\n",
      "\n"
     ]
    }
   ],
   "source": [
    "rf = RandomForestClassifier(bootstrap=True, class_weight=None, criterion='gini',\n",
    "            max_depth=None, max_features='auto', max_leaf_nodes=None,\n",
    "            min_impurity_decrease=0.0, min_impurity_split=None,\n",
    "            min_samples_leaf=1, min_samples_split=2,\n",
    "            min_weight_fraction_leaf=0.0, n_estimators=10, n_jobs=1,\n",
    "            oob_score=False, random_state=42, verbose=0,\n",
    "            warm_start=False)\n",
    "\n",
    "rf.fit(X_trainPCA50, y_trainPCA50)\n",
    "y_predPCA50 = rf.predict(X_testPCA50)\n",
    "\n",
    "allmetrics(y_testPCA50,y_predPCA50)"
   ]
  },
  {
   "cell_type": "markdown",
   "metadata": {},
   "source": [
    "#### RandomForest with TSNE"
   ]
  },
  {
   "cell_type": "code",
   "execution_count": 164,
   "metadata": {},
   "outputs": [
    {
     "name": "stdout",
     "output_type": "stream",
     "text": [
      "[[409  56  22  12   3]\n",
      " [ 53 237 120  38  81]\n",
      " [ 49 126 216  39  83]\n",
      " [ 13  60  77 264 104]\n",
      " [  4  86 116 117 196]]\n",
      "51.2204571871\n",
      "             precision    recall  f1-score   support\n",
      "\n",
      "          1       0.77      0.81      0.79       502\n",
      "          2       0.42      0.45      0.43       529\n",
      "          3       0.39      0.42      0.41       513\n",
      "          4       0.56      0.51      0.53       518\n",
      "          5       0.42      0.38      0.40       519\n",
      "\n",
      "avg / total       0.51      0.51      0.51      2581\n",
      "\n"
     ]
    }
   ],
   "source": [
    "rf = RandomForestClassifier(bootstrap=True, class_weight=None, criterion='gini',\n",
    "            max_depth=None, max_features='auto', max_leaf_nodes=None,\n",
    "            min_impurity_decrease=0.0, min_impurity_split=None,\n",
    "            min_samples_leaf=1, min_samples_split=2,\n",
    "            min_weight_fraction_leaf=0.0, n_estimators=10, n_jobs=1,\n",
    "            oob_score=False, random_state=42, verbose=0,\n",
    "            warm_start=False)\n",
    "\n",
    "rf.fit(X_trainTSNE, y_trainTSNE)\n",
    "y_predTSNE = rf.predict(X_testTSNE)\n",
    "\n",
    "allmetrics(y_testTSNE,y_predTSNE)"
   ]
  },
  {
   "cell_type": "markdown",
   "metadata": {},
   "source": [
    "#### RandomForest with Correlation Subset"
   ]
  },
  {
   "cell_type": "code",
   "execution_count": 165,
   "metadata": {},
   "outputs": [
    {
     "name": "stdout",
     "output_type": "stream",
     "text": [
      "[[461  13   9  18   1]\n",
      " [ 52 180 132  64 101]\n",
      " [ 24 162 192  44  91]\n",
      " [ 27 107  83 205  96]\n",
      " [  0 137 134  78 170]]\n",
      "46.8035645099\n",
      "             precision    recall  f1-score   support\n",
      "\n",
      "          1       0.82      0.92      0.86       502\n",
      "          2       0.30      0.34      0.32       529\n",
      "          3       0.35      0.37      0.36       513\n",
      "          4       0.50      0.40      0.44       518\n",
      "          5       0.37      0.33      0.35       519\n",
      "\n",
      "avg / total       0.47      0.47      0.46      2581\n",
      "\n"
     ]
    }
   ],
   "source": [
    "rf = RandomForestClassifier(bootstrap=True, class_weight=None, criterion='gini',\n",
    "            max_depth=None, max_features='auto', max_leaf_nodes=None,\n",
    "            min_impurity_decrease=0.0, min_impurity_split=None,\n",
    "            min_samples_leaf=1, min_samples_split=2,\n",
    "            min_weight_fraction_leaf=0.0, n_estimators=10, n_jobs=1,\n",
    "            oob_score=False, random_state=42, verbose=0,\n",
    "            warm_start=False)\n",
    "\n",
    "rf.fit(X_trainCorr, y_trainCorr)\n",
    "y_predCorr = rf.predict(X_testCorr)\n",
    "\n",
    "allmetrics(y_testCorr,y_predCorr)"
   ]
  },
  {
   "cell_type": "markdown",
   "metadata": {},
   "source": [
    "#### RandomForest with Univariate Selection"
   ]
  },
  {
   "cell_type": "code",
   "execution_count": null,
   "metadata": {},
   "outputs": [],
   "source": [
    "rows_list = []\n",
    "for i in range(1,178):\n",
    "    X_kbest = SelectKBest(f_classif, k=i).fit_transform(X, Y)\n",
    "    X_trainK, X_testK, y_trainK, y_testK = train_test_split( X_kbest, Y, test_size = 0.34, random_state = 42)\n",
    "    X_trainK, X_valK, y_trainK, y_valK = train_test_split( X_trainK, y_trainK, test_size = 0.34, random_state = 42)\n",
    "\n",
    "    rf = RandomForestClassifier(bootstrap=True, class_weight=None, criterion='gini',\n",
    "                max_depth=None, max_features='auto', max_leaf_nodes=None,\n",
    "                min_impurity_decrease=0.0, min_impurity_split=None,\n",
    "                min_samples_leaf=1, min_samples_split=2,\n",
    "                min_weight_fraction_leaf=0.0, n_estimators=10, n_jobs=1,\n",
    "                oob_score=False, random_state=42, verbose=0,\n",
    "                warm_start=False)\n",
    "\n",
    "    rf.fit(X_trainK, y_trainK)\n",
    "    y_predK = rf.predict(X_testK)\n",
    "    \n",
    "    dict1 = {\"acc\": metrics.accuracy_score(y_testK,y_predK)*100, \n",
    "            \"ind\": i}\n",
    "\n",
    "    rows_list.append(dict1)\n",
    "dfRF = pd.DataFrame(rows_list) "
   ]
  },
  {
   "cell_type": "code",
   "execution_count": null,
   "metadata": {
    "collapsed": true
   },
   "outputs": [],
   "source": [
    "plt.plot(dfRF['ind'], dfRF['acc'])\n",
    "plt.show()"
   ]
  },
  {
   "cell_type": "code",
   "execution_count": 257,
   "metadata": {},
   "outputs": [
    {
     "name": "stdout",
     "output_type": "stream",
     "text": [
      "[[468   7  11  16   0]\n",
      " [ 52 227 152  22  76]\n",
      " [ 26 174 210  32  71]\n",
      " [ 17  57  56 292  96]\n",
      " [  2 109 128  93 187]]\n",
      "53.6226268888\n",
      "             precision    recall  f1-score   support\n",
      "\n",
      "          1       0.83      0.93      0.88       502\n",
      "          2       0.40      0.43      0.41       529\n",
      "          3       0.38      0.41      0.39       513\n",
      "          4       0.64      0.56      0.60       518\n",
      "          5       0.43      0.36      0.39       519\n",
      "\n",
      "avg / total       0.53      0.54      0.53      2581\n",
      "\n"
     ]
    }
   ],
   "source": [
    "X_kbest = SelectKBest(f_classif, k=160).fit_transform(X, Y)\n",
    "X_trainK, X_testK, y_trainK, y_testK = train_test_split( X_kbest, Y, test_size = 0.34, random_state = 42)\n",
    "X_trainK, X_valK, y_trainK, y_valK = train_test_split( X_trainK, y_trainK, test_size = 0.34, random_state = 42)\n",
    "\n",
    "rf = RandomForestClassifier(bootstrap=True, class_weight=None, criterion='gini',\n",
    "            max_depth=None, max_features='auto', max_leaf_nodes=None,\n",
    "            min_impurity_decrease=0.0, min_impurity_split=None,\n",
    "            min_samples_leaf=1, min_samples_split=2,\n",
    "            min_weight_fraction_leaf=0.0, n_estimators=10, n_jobs=1,\n",
    "            oob_score=False, random_state=42, verbose=0,\n",
    "            warm_start=False)\n",
    "\n",
    "rf.fit(X_trainK, y_trainK)\n",
    "y_predK = rf.predict(X_testK)\n",
    "\n",
    "allmetrics(y_testK,y_predK)"
   ]
  },
  {
   "cell_type": "markdown",
   "metadata": {},
   "source": [
    "#### RandomForest Tuning "
   ]
  },
  {
   "cell_type": "code",
   "execution_count": 85,
   "metadata": {},
   "outputs": [
    {
     "name": "stdout",
     "output_type": "stream",
     "text": [
      "[[482   6   3  11   0]\n",
      " [ 42 226 184  24  53]\n",
      " [ 24 112 297  35  45]\n",
      " [  1  11   9 381 116]\n",
      " [  0  32  55  83 349]]\n",
      "67.222006974\n",
      "             precision    recall  f1-score   support\n",
      "\n",
      "          1       0.88      0.96      0.92       502\n",
      "          2       0.58      0.43      0.49       529\n",
      "          3       0.54      0.58      0.56       513\n",
      "          4       0.71      0.74      0.72       518\n",
      "          5       0.62      0.67      0.65       519\n",
      "\n",
      "avg / total       0.67      0.67      0.67      2581\n",
      "\n"
     ]
    }
   ],
   "source": [
    "maxe = 0\n",
    "inde = 0\n",
    "## 68.3456024797 \"auto\"\n",
    "# max_features = list(range(1,train.shape[1]))\n",
    "# for i in max_features:\n",
    "rf = RandomForestClassifier(bootstrap=True, class_weight=None, criterion='gini',\n",
    "            max_depth=None, max_features=150, max_leaf_nodes=None,\n",
    "            min_impurity_decrease=0.0, min_impurity_split=None,\n",
    "            min_samples_leaf=1, min_samples_split=0.00001,\n",
    "            min_weight_fraction_leaf=0.0, n_estimators=880, n_jobs=1,\n",
    "            oob_score=False, random_state=42, verbose=0,\n",
    "            warm_start=False)\n",
    "\n",
    "rf.fit(X_train, y_train)\n",
    "y_pred = rf.predict(X_test)\n",
    "\n",
    "acc = metrics.accuracy_score(y_test,y_pred)*100\n",
    "#    print(i)\n",
    "#    if acc>maxe:\n",
    "#        maxe=acc\n",
    "#        inde=i\n",
    "# print(acc,inde)\n",
    "allmetrics(y_test,y_pred)"
   ]
  },
  {
   "cell_type": "markdown",
   "metadata": {},
   "source": [
    "### Gradient Boosting"
   ]
  },
  {
   "cell_type": "markdown",
   "metadata": {},
   "source": [
    "#### Default Parameters"
   ]
  },
  {
   "cell_type": "code",
   "execution_count": 124,
   "metadata": {},
   "outputs": [
    {
     "name": "stdout",
     "output_type": "stream",
     "text": [
      "[[448  16   9  29   0]\n",
      " [ 31 177 203  27  91]\n",
      " [ 12 137 255  31  78]\n",
      " [  0  21  25 352 120]\n",
      " [  0  76  74  73 296]]\n",
      "59.2018597443\n",
      "             precision    recall  f1-score   support\n",
      "\n",
      "          1       0.91      0.89      0.90       502\n",
      "          2       0.41      0.33      0.37       529\n",
      "          3       0.45      0.50      0.47       513\n",
      "          4       0.69      0.68      0.68       518\n",
      "          5       0.51      0.57      0.54       519\n",
      "\n",
      "avg / total       0.59      0.59      0.59      2581\n",
      "\n"
     ]
    }
   ],
   "source": [
    "model = GradientBoostingClassifier(criterion='friedman_mse', init=None,\n",
    "              learning_rate=0.1, loss='deviance', max_depth=3,\n",
    "              max_features=None, max_leaf_nodes=None,\n",
    "              min_impurity_decrease=0.0, min_impurity_split=None,\n",
    "              min_samples_leaf=1, min_samples_split=2,\n",
    "              min_weight_fraction_leaf=0.0, n_estimators=100,\n",
    "              presort='auto', random_state=42, subsample=1.0, verbose=0,\n",
    "              warm_start=False)\n",
    "model.fit(X_train, y_train)\n",
    "y_pred = model.predict(X_test)\n",
    "allmetrics(y_test,y_pred)"
   ]
  },
  {
   "cell_type": "markdown",
   "metadata": {},
   "source": [
    "#### Gradient Boosting with PCA"
   ]
  },
  {
   "cell_type": "code",
   "execution_count": 126,
   "metadata": {},
   "outputs": [
    {
     "name": "stdout",
     "output_type": "stream",
     "text": [
      "[[426  32  19  12  13]\n",
      " [ 50  98  80  91 210]\n",
      " [ 29  75 114  94 201]\n",
      " [  8  81 104 111 214]\n",
      " [  4  44  87 104 280]]\n",
      "39.8682681131\n",
      "             precision    recall  f1-score   support\n",
      "\n",
      "          1       0.82      0.85      0.84       502\n",
      "          2       0.30      0.19      0.23       529\n",
      "          3       0.28      0.22      0.25       513\n",
      "          4       0.27      0.21      0.24       518\n",
      "          5       0.31      0.54      0.39       519\n",
      "\n",
      "avg / total       0.39      0.40      0.39      2581\n",
      "\n"
     ]
    }
   ],
   "source": [
    "model = GradientBoostingClassifier(criterion='friedman_mse', init=None,\n",
    "              learning_rate=0.1, loss='deviance', max_depth=3,\n",
    "              max_features=None, max_leaf_nodes=None,\n",
    "              min_impurity_decrease=0.0, min_impurity_split=None,\n",
    "              min_samples_leaf=1, min_samples_split=2,\n",
    "              min_weight_fraction_leaf=0.0, n_estimators=100,\n",
    "              presort='auto', random_state=42, subsample=1.0, verbose=0,\n",
    "              warm_start=False)\n",
    "model.fit(X_trainPCA, y_trainPCA)\n",
    "y_predPCA = model.predict(X_testPCA)\n",
    "allmetrics(y_testPCA,y_predPCA)"
   ]
  },
  {
   "cell_type": "markdown",
   "metadata": {},
   "source": [
    "#### Gradient Boosting with PCA50"
   ]
  },
  {
   "cell_type": "code",
   "execution_count": 128,
   "metadata": {},
   "outputs": [
    {
     "name": "stdout",
     "output_type": "stream",
     "text": [
      "[[271  19  16  11   4]\n",
      " [ 37  56  71  67 115]\n",
      " [ 22  64  73  61 135]\n",
      " [ 10  42  77  77 146]\n",
      " [  1  34  54  70 170]]\n",
      "37.9917792132\n",
      "             precision    recall  f1-score   support\n",
      "\n",
      "          1       0.79      0.84      0.82       321\n",
      "          2       0.26      0.16      0.20       346\n",
      "          3       0.25      0.21      0.23       355\n",
      "          4       0.27      0.22      0.24       352\n",
      "          5       0.30      0.52      0.38       329\n",
      "\n",
      "avg / total       0.37      0.38      0.36      1703\n",
      "\n"
     ]
    }
   ],
   "source": [
    "model = GradientBoostingClassifier(criterion='friedman_mse', init=None,\n",
    "              learning_rate=0.1, loss='deviance', max_depth=3,\n",
    "              max_features=None, max_leaf_nodes=None,\n",
    "              min_impurity_decrease=0.0, min_impurity_split=None,\n",
    "              min_samples_leaf=1, min_samples_split=2,\n",
    "              min_weight_fraction_leaf=0.0, n_estimators=100,\n",
    "              presort='auto', random_state=42, subsample=1.0, verbose=0,\n",
    "              warm_start=False)\n",
    "model.fit(X_trainPCA50, y_trainPCA50)\n",
    "y_predPCA50 = model.predict(X_testPCA50)\n",
    "allmetrics(y_testPCA50,y_predPCA50)"
   ]
  },
  {
   "cell_type": "markdown",
   "metadata": {},
   "source": [
    "#### Gradient Boosting with TSNE"
   ]
  },
  {
   "cell_type": "code",
   "execution_count": 129,
   "metadata": {},
   "outputs": [
    {
     "name": "stdout",
     "output_type": "stream",
     "text": [
      "[[405  39  42  14   2]\n",
      " [ 79 134 145  26 145]\n",
      " [ 50  97 202  36 128]\n",
      " [  8  23  82 258 147]\n",
      " [  2  41 117  81 278]]\n",
      "49.4769469198\n",
      "             precision    recall  f1-score   support\n",
      "\n",
      "          1       0.74      0.81      0.77       502\n",
      "          2       0.40      0.25      0.31       529\n",
      "          3       0.34      0.39      0.37       513\n",
      "          4       0.62      0.50      0.55       518\n",
      "          5       0.40      0.54      0.46       519\n",
      "\n",
      "avg / total       0.50      0.49      0.49      2581\n",
      "\n"
     ]
    }
   ],
   "source": [
    "model = GradientBoostingClassifier(criterion='friedman_mse', init=None,\n",
    "              learning_rate=0.1, loss='deviance', max_depth=3,\n",
    "              max_features=None, max_leaf_nodes=None,\n",
    "              min_impurity_decrease=0.0, min_impurity_split=None,\n",
    "              min_samples_leaf=1, min_samples_split=2,\n",
    "              min_weight_fraction_leaf=0.0, n_estimators=100,\n",
    "              presort='auto', random_state=42, subsample=1.0, verbose=0,\n",
    "              warm_start=False)\n",
    "model.fit(X_trainTSNE, y_trainTSNE)\n",
    "y_predTSNE = model.predict(X_testTSNE)\n",
    "allmetrics(y_testTSNE,y_predTSNE)"
   ]
  },
  {
   "cell_type": "markdown",
   "metadata": {},
   "source": [
    "#### Gradient Boosting with Correlation Subset"
   ]
  },
  {
   "cell_type": "code",
   "execution_count": 166,
   "metadata": {},
   "outputs": [
    {
     "name": "stdout",
     "output_type": "stream",
     "text": [
      "[[453  13   9  26   1]\n",
      " [ 29 125 166  48 161]\n",
      " [ 13 102 198  51 149]\n",
      " [  7  47  60 275 129]\n",
      " [  0  72 132  70 245]]\n",
      "50.2130956993\n",
      "             precision    recall  f1-score   support\n",
      "\n",
      "          1       0.90      0.90      0.90       502\n",
      "          2       0.35      0.24      0.28       529\n",
      "          3       0.35      0.39      0.37       513\n",
      "          4       0.59      0.53      0.56       518\n",
      "          5       0.36      0.47      0.41       519\n",
      "\n",
      "avg / total       0.51      0.50      0.50      2581\n",
      "\n"
     ]
    }
   ],
   "source": [
    "model = GradientBoostingClassifier(criterion='friedman_mse', init=None,\n",
    "              learning_rate=0.1, loss='deviance', max_depth=3,\n",
    "              max_features=None, max_leaf_nodes=None,\n",
    "              min_impurity_decrease=0.0, min_impurity_split=None,\n",
    "              min_samples_leaf=1, min_samples_split=2,\n",
    "              min_weight_fraction_leaf=0.0, n_estimators=100,\n",
    "              presort='auto', random_state=42, subsample=1.0, verbose=0,\n",
    "              warm_start=False)\n",
    "model.fit(X_trainCorr, y_trainCorr)\n",
    "y_predCorr = model.predict(X_testCorr)\n",
    "allmetrics(y_testCorr,y_predCorr)"
   ]
  },
  {
   "cell_type": "markdown",
   "metadata": {},
   "source": [
    "#### Gradient Boosting with Univariate Selection"
   ]
  },
  {
   "cell_type": "code",
   "execution_count": null,
   "metadata": {
    "collapsed": true
   },
   "outputs": [],
   "source": [
    "rows_list = []\n",
    "for i in range(1,178):\n",
    "    X_kbest = SelectKBest(f_classif, k=i).fit_transform(X, Y)\n",
    "    X_trainK, X_testK, y_trainK, y_testK = train_test_split( X_kbest, Y, test_size = 0.34, random_state = 42)\n",
    "    X_trainK, X_valK, y_trainK, y_valK = train_test_split( X_trainK, y_trainK, test_size = 0.34, random_state = 42)\n",
    "\n",
    "    model = GradientBoostingClassifier(criterion='friedman_mse', init=None,\n",
    "                  learning_rate=0.1, loss='deviance', max_depth=3,\n",
    "                  max_features=None, max_leaf_nodes=None,\n",
    "                  min_impurity_decrease=0.0, min_impurity_split=None,\n",
    "                  min_samples_leaf=1, min_samples_split=2,\n",
    "                  min_weight_fraction_leaf=0.0, n_estimators=100,\n",
    "                  presort='auto', random_state=42, subsample=1.0, verbose=0,\n",
    "                  warm_start=False)\n",
    "    model.fit(X_trainK, y_trainK)\n",
    "    y_predK = model.predict(X_testK)\n",
    "    dict1 = {\"acc\": metrics.accuracy_score(y_testK,y_predK)*100, \n",
    "                \"ind\": i}\n",
    "    rows_list.append(dict1)\n",
    "dfGB = pd.DataFrame(rows_list) "
   ]
  },
  {
   "cell_type": "code",
   "execution_count": null,
   "metadata": {
    "collapsed": true
   },
   "outputs": [],
   "source": [
    "plt.plot(dfGB['ind'], dfGB['acc'])\n",
    "plt.show()"
   ]
  },
  {
   "cell_type": "code",
   "execution_count": 20,
   "metadata": {},
   "outputs": [
    {
     "name": "stdout",
     "output_type": "stream",
     "text": [
      "[[455  12  13  22   0]\n",
      " [ 33 183 195  18 100]\n",
      " [ 10 144 265  31  63]\n",
      " [  0  28  25 345 120]\n",
      " [  0  67  85  74 293]]\n",
      "59.7055404882\n",
      "             precision    recall  f1-score   support\n",
      "\n",
      "          1       0.91      0.91      0.91       502\n",
      "          2       0.42      0.35      0.38       529\n",
      "          3       0.45      0.52      0.48       513\n",
      "          4       0.70      0.67      0.68       518\n",
      "          5       0.51      0.56      0.54       519\n",
      "\n",
      "avg / total       0.60      0.60      0.60      2581\n",
      "\n"
     ]
    }
   ],
   "source": [
    "X_kbest = SelectKBest(f_classif, k=150).fit_transform(X, Y)\n",
    "X_trainK, X_testK, y_trainK, y_testK = train_test_split( X_kbest, Y, test_size = 0.34, random_state = 42)\n",
    "X_trainK, X_valK, y_trainK, y_valK = train_test_split( X_trainK, y_trainK, test_size = 0.34, random_state = 42)\n",
    "\n",
    "model = GradientBoostingClassifier(criterion='friedman_mse', init=None,\n",
    "              learning_rate=0.1, loss='deviance', max_depth=3,\n",
    "              max_features=None, max_leaf_nodes=None,\n",
    "              min_impurity_decrease=0.0, min_impurity_split=None,\n",
    "              min_samples_leaf=1, min_samples_split=2,\n",
    "              min_weight_fraction_leaf=0.0, n_estimators=100,\n",
    "              presort='auto', random_state=42, subsample=1.0, verbose=0,\n",
    "              warm_start=False)\n",
    "model.fit(X_trainK, y_trainK)\n",
    "y_predK = model.predict(X_testK)\n",
    "allmetrics(y_testK,y_predK)"
   ]
  },
  {
   "cell_type": "markdown",
   "metadata": {},
   "source": [
    "#### Gradient Boosting Tuning Parameters"
   ]
  },
  {
   "cell_type": "code",
   "execution_count": 22,
   "metadata": {},
   "outputs": [
    {
     "name": "stdout",
     "output_type": "stream",
     "text": [
      "[[465   9  11  17   0]\n",
      " [ 26 265 180  21  37]\n",
      " [ 17 154 283  18  41]\n",
      " [  0  12  23 362 121]\n",
      " [  0  63  54  80 322]]\n",
      "65.749709415\n",
      "             precision    recall  f1-score   support\n",
      "\n",
      "          1       0.92      0.93      0.92       502\n",
      "          2       0.53      0.50      0.51       529\n",
      "          3       0.51      0.55      0.53       513\n",
      "          4       0.73      0.70      0.71       518\n",
      "          5       0.62      0.62      0.62       519\n",
      "\n",
      "avg / total       0.66      0.66      0.66      2581\n",
      "\n"
     ]
    }
   ],
   "source": [
    "model = GradientBoostingClassifier(criterion='friedman_mse', init=None,\n",
    "              learning_rate=0.25, loss='deviance', max_depth=5,\n",
    "              max_features=130, max_leaf_nodes=None,\n",
    "              min_impurity_decrease=0.0, min_impurity_split=None,\n",
    "              min_samples_leaf=0.009, min_samples_split=2,\n",
    "              min_weight_fraction_leaf=0.0, n_estimators=560,\n",
    "              presort='auto', random_state=42, subsample=1.0, verbose=0,\n",
    "              warm_start=False)\n",
    "model.fit(X_train, y_train)\n",
    "y_pred = model.predict(X_test)\n",
    "allmetrics(y_test,y_pred)"
   ]
  },
  {
   "cell_type": "markdown",
   "metadata": {},
   "source": [
    "### Neural Networks"
   ]
  },
  {
   "cell_type": "markdown",
   "metadata": {},
   "source": [
    "#### NN Default Parameters"
   ]
  },
  {
   "cell_type": "code",
   "execution_count": 130,
   "metadata": {},
   "outputs": [
    {
     "name": "stdout",
     "output_type": "stream",
     "text": [
      "[[337  40  38  28  59]\n",
      " [ 64 193 164  19  89]\n",
      " [ 80 149 175  21  88]\n",
      " [ 81  15  20 261 141]\n",
      " [ 92  57  60  91 219]]\n",
      "45.9124370399\n",
      "             precision    recall  f1-score   support\n",
      "\n",
      "          1       0.52      0.67      0.58       502\n",
      "          2       0.43      0.36      0.39       529\n",
      "          3       0.38      0.34      0.36       513\n",
      "          4       0.62      0.50      0.56       518\n",
      "          5       0.37      0.42      0.39       519\n",
      "\n",
      "avg / total       0.46      0.46      0.46      2581\n",
      "\n"
     ]
    }
   ],
   "source": [
    "mlp = MLPClassifier(activation='relu', alpha=0.0001, batch_size='auto', beta_1=0.9,\n",
    "       beta_2=0.999, early_stopping=False, epsilon=1e-08,\n",
    "       hidden_layer_sizes=(100,), learning_rate='constant',\n",
    "       learning_rate_init=0.001, max_iter=200, momentum=0.9,\n",
    "       nesterovs_momentum=True, power_t=0.5, random_state=42,\n",
    "       shuffle=True, solver='adam', tol=0.0001, validation_fraction=0.1,\n",
    "       verbose=False, warm_start=False)\n",
    "mlp.fit(X_train,y_train)\n",
    "y_pred = mlp.predict(X_test)\n",
    "allmetrics(y_test,y_pred)"
   ]
  },
  {
   "cell_type": "markdown",
   "metadata": {},
   "source": [
    "#### Neural Networks with PCA"
   ]
  },
  {
   "cell_type": "code",
   "execution_count": 132,
   "metadata": {},
   "outputs": [
    {
     "name": "stdout",
     "output_type": "stream",
     "text": [
      "[[403  64  11  15   9]\n",
      " [ 64 198  43  78 146]\n",
      " [ 54 194  37  86 142]\n",
      " [ 31 187  43 112 145]\n",
      " [ 12 175  37  88 207]]\n",
      "37.0786516854\n",
      "             precision    recall  f1-score   support\n",
      "\n",
      "          1       0.71      0.80      0.76       502\n",
      "          2       0.24      0.37      0.29       529\n",
      "          3       0.22      0.07      0.11       513\n",
      "          4       0.30      0.22      0.25       518\n",
      "          5       0.32      0.40      0.35       519\n",
      "\n",
      "avg / total       0.36      0.37      0.35      2581\n",
      "\n"
     ]
    }
   ],
   "source": [
    "mlp = MLPClassifier(activation='relu', alpha=0.0001, batch_size='auto', beta_1=0.9,\n",
    "       beta_2=0.999, early_stopping=False, epsilon=1e-08,\n",
    "       hidden_layer_sizes=(100,), learning_rate='constant',\n",
    "       learning_rate_init=0.001, max_iter=200, momentum=0.9,\n",
    "       nesterovs_momentum=True, power_t=0.5, random_state=42,\n",
    "       shuffle=True, solver='adam', tol=0.0001, validation_fraction=0.1,\n",
    "       verbose=False, warm_start=False)\n",
    "mlp.fit(X_trainPCA,y_trainPCA)\n",
    "y_predPCA = mlp.predict(X_testPCA)\n",
    "allmetrics(y_testPCA,y_predPCA)"
   ]
  },
  {
   "cell_type": "markdown",
   "metadata": {},
   "source": [
    "#### Neural Networks with PCA50"
   ]
  },
  {
   "cell_type": "code",
   "execution_count": 134,
   "metadata": {},
   "outputs": [
    {
     "name": "stdout",
     "output_type": "stream",
     "text": [
      "[[205  15  92   1   8]\n",
      " [ 38  46 125  17 120]\n",
      " [ 24  59 142  22 108]\n",
      " [  7  62 137  29 117]\n",
      " [  3  58 118  20 130]]\n",
      "32.4133881386\n",
      "             precision    recall  f1-score   support\n",
      "\n",
      "          1       0.74      0.64      0.69       321\n",
      "          2       0.19      0.13      0.16       346\n",
      "          3       0.23      0.40      0.29       355\n",
      "          4       0.33      0.08      0.13       352\n",
      "          5       0.27      0.40      0.32       329\n",
      "\n",
      "avg / total       0.35      0.32      0.31      1703\n",
      "\n"
     ]
    }
   ],
   "source": [
    "mlp = MLPClassifier(activation='relu', alpha=0.0001, batch_size='auto', beta_1=0.9,\n",
    "       beta_2=0.999, early_stopping=False, epsilon=1e-08,\n",
    "       hidden_layer_sizes=(100,), learning_rate='constant',\n",
    "       learning_rate_init=0.001, max_iter=200, momentum=0.9,\n",
    "       nesterovs_momentum=True, power_t=0.5, random_state=42,\n",
    "       shuffle=True, solver='adam', tol=0.0001, validation_fraction=0.1,\n",
    "       verbose=False, warm_start=False)\n",
    "mlp.fit(X_trainPCA50,y_trainPCA50)\n",
    "y_predPCA50 = mlp.predict(X_testPCA50)\n",
    "allmetrics(y_testPCA50,y_predPCA50)"
   ]
  },
  {
   "cell_type": "markdown",
   "metadata": {},
   "source": [
    "#### Neural Networks with TSNE"
   ]
  },
  {
   "cell_type": "code",
   "execution_count": 135,
   "metadata": {},
   "outputs": [
    {
     "name": "stdout",
     "output_type": "stream",
     "text": [
      "[[396  46  31  28   1]\n",
      " [109 133  97  66 124]\n",
      " [ 87 135 122  47 122]\n",
      " [ 13  64  37 277 127]\n",
      " [ 10  75  65 143 226]]\n",
      "44.7113521891\n",
      "             precision    recall  f1-score   support\n",
      "\n",
      "          1       0.64      0.79      0.71       502\n",
      "          2       0.29      0.25      0.27       529\n",
      "          3       0.35      0.24      0.28       513\n",
      "          4       0.49      0.53      0.51       518\n",
      "          5       0.38      0.44      0.40       519\n",
      "\n",
      "avg / total       0.43      0.45      0.43      2581\n",
      "\n"
     ]
    }
   ],
   "source": [
    "mlp = MLPClassifier(activation='relu', alpha=0.0001, batch_size='auto', beta_1=0.9,\n",
    "       beta_2=0.999, early_stopping=False, epsilon=1e-08,\n",
    "       hidden_layer_sizes=(100,), learning_rate='constant',\n",
    "       learning_rate_init=0.001, max_iter=200, momentum=0.9,\n",
    "       nesterovs_momentum=True, power_t=0.5, random_state=42,\n",
    "       shuffle=True, solver='adam', tol=0.0001, validation_fraction=0.1,\n",
    "       verbose=False, warm_start=False)\n",
    "mlp.fit(X_trainTSNE,y_trainTSNE)\n",
    "y_predTSNE = mlp.predict(X_testTSNE)\n",
    "allmetrics(y_testTSNE,y_predTSNE)"
   ]
  },
  {
   "cell_type": "markdown",
   "metadata": {},
   "source": [
    "#### Neural Networks with Correlation Subset"
   ]
  },
  {
   "cell_type": "code",
   "execution_count": 167,
   "metadata": {},
   "outputs": [
    {
     "name": "stdout",
     "output_type": "stream",
     "text": [
      "[[347  60  13  50  32]\n",
      " [ 91 140 111  77 110]\n",
      " [ 71 150 122  60 110]\n",
      " [ 87  53  44 233 101]\n",
      " [ 54 101  86 149 129]]\n",
      "37.6210771019\n",
      "             precision    recall  f1-score   support\n",
      "\n",
      "          1       0.53      0.69      0.60       502\n",
      "          2       0.28      0.26      0.27       529\n",
      "          3       0.32      0.24      0.27       513\n",
      "          4       0.41      0.45      0.43       518\n",
      "          5       0.27      0.25      0.26       519\n",
      "\n",
      "avg / total       0.36      0.38      0.37      2581\n",
      "\n"
     ]
    }
   ],
   "source": [
    "mlp = MLPClassifier(activation='relu', alpha=0.0001, batch_size='auto', beta_1=0.9,\n",
    "       beta_2=0.999, early_stopping=False, epsilon=1e-08,\n",
    "       hidden_layer_sizes=(100,), learning_rate='constant',\n",
    "       learning_rate_init=0.001, max_iter=200, momentum=0.9,\n",
    "       nesterovs_momentum=True, power_t=0.5, random_state=42,\n",
    "       shuffle=True, solver='adam', tol=0.0001, validation_fraction=0.1,\n",
    "       verbose=False, warm_start=False)\n",
    "mlp.fit(X_trainCorr,y_trainCorr)\n",
    "y_predCorr = mlp.predict(X_testCorr)\n",
    "allmetrics(y_testCorr,y_predCorr)"
   ]
  },
  {
   "cell_type": "markdown",
   "metadata": {},
   "source": [
    "#### Neural Networks with Univariate Selection"
   ]
  },
  {
   "cell_type": "code",
   "execution_count": null,
   "metadata": {},
   "outputs": [],
   "source": [
    "rows_list = []\n",
    "for i in range(1,178): \n",
    "    X_kbest = SelectKBest(f_classif, k=i).fit_transform(X, Y)\n",
    "    X_trainK, X_testK, y_trainK, y_testK = train_test_split( X_kbest, Y, test_size = 0.34, random_state = 42)\n",
    "    X_trainK, X_valK, y_trainK, y_valK = train_test_split( X_trainK, y_trainK, test_size = 0.34, random_state = 42)\n",
    "\n",
    "    mlp = MLPClassifier(activation='relu', alpha=0.0001, batch_size='auto', beta_1=0.9,\n",
    "       beta_2=0.999, early_stopping=False, epsilon=1e-08,\n",
    "       hidden_layer_sizes=(100,), learning_rate='constant',\n",
    "       learning_rate_init=0.001, max_iter=200, momentum=0.9,\n",
    "       nesterovs_momentum=True, power_t=0.5, random_state=42,\n",
    "       shuffle=True, solver='adam', tol=0.0001, validation_fraction=0.1,\n",
    "       verbose=False, warm_start=False)\n",
    "    mlp.fit(X_trainK,y_trainK)\n",
    "    y_predK = mlp.predict(X_testK)\n",
    "    \n",
    "    dict1 = {\"acc\": metrics.accuracy_score(y_testK,y_predK)*100, \n",
    "            \"ind\": i}\n",
    "    print(\"#\")\n",
    "    rows_list.append(dict1)\n",
    "dfNN = pd.DataFrame(rows_list) "
   ]
  },
  {
   "cell_type": "code",
   "execution_count": 5,
   "metadata": {},
   "outputs": [
    {
     "data": {
      "image/png": "[encoded data removed]",
      "text/plain": [
       "<matplotlib.figure.Figure at 0x1c29efed470>"
      ]
     },
     "metadata": {},
     "output_type": "display_data"
    }
   ],
   "source": [
    "plt.plot(dfNN['ind'], dfNN['acc'])\n",
    "plt.show()"
   ]
  },
  {
   "cell_type": "code",
   "execution_count": 19,
   "metadata": {},
   "outputs": [
    {
     "name": "stdout",
     "output_type": "stream",
     "text": [
      "[[320  33  55  42  52]\n",
      " [ 58 175 220  20  56]\n",
      " [ 57 159 242   7  48]\n",
      " [ 57  14  22 303 122]\n",
      " [ 88  42  70 119 200]]\n",
      "48.0433940333\n",
      "             precision    recall  f1-score   support\n",
      "\n",
      "          1       0.55      0.64      0.59       502\n",
      "          2       0.41      0.33      0.37       529\n",
      "          3       0.40      0.47      0.43       513\n",
      "          4       0.62      0.58      0.60       518\n",
      "          5       0.42      0.39      0.40       519\n",
      "\n",
      "avg / total       0.48      0.48      0.48      2581\n",
      "\n"
     ]
    }
   ],
   "source": [
    "X_kbest = SelectKBest(f_classif, k=155).fit_transform(X, Y)\n",
    "X_trainK, X_testK, y_trainK, y_testK = train_test_split( X_kbest, Y, test_size = 0.34, random_state = 42)\n",
    "X_trainK, X_valK, y_trainK, y_valK = train_test_split( X_trainK, y_trainK, test_size = 0.34, random_state = 42)\n",
    "\n",
    "mlp = MLPClassifier(activation='relu', alpha=0.0001, batch_size='auto', beta_1=0.9,\n",
    "       beta_2=0.999, early_stopping=False, epsilon=1e-08,\n",
    "       hidden_layer_sizes=(100,), learning_rate='constant',\n",
    "       learning_rate_init=0.001, max_iter=200, momentum=0.9,\n",
    "       nesterovs_momentum=True, power_t=0.5, random_state=42,\n",
    "       shuffle=True, solver='adam', tol=0.0001, validation_fraction=0.1,\n",
    "       verbose=False, warm_start=False)\n",
    "mlp.fit(X_trainK,y_trainK)\n",
    "y_predK = mlp.predict(X_testK)\n",
    "allmetrics(y_testK,y_predK)"
   ]
  },
  {
   "cell_type": "markdown",
   "metadata": {},
   "source": [
    "#### Neural Networks Tuning Hyperparameters"
   ]
  },
  {
   "cell_type": "code",
   "execution_count": 292,
   "metadata": {},
   "outputs": [
    {
     "name": "stdout",
     "output_type": "stream",
     "text": [
      "[[415  41   6  36   4]\n",
      " [ 32 320 118  15  44]\n",
      " [ 10 208 205  21  69]\n",
      " [  4  12  10 353 139]\n",
      " [  3  64  48  88 316]]\n",
      "62.3401782255\n",
      "             precision    recall  f1-score   support\n",
      "\n",
      "          1       0.89      0.83      0.86       502\n",
      "          2       0.50      0.60      0.55       529\n",
      "          3       0.53      0.40      0.46       513\n",
      "          4       0.69      0.68      0.68       518\n",
      "          5       0.55      0.61      0.58       519\n",
      "\n",
      "avg / total       0.63      0.62      0.62      2581\n",
      "\n"
     ]
    }
   ],
   "source": [
    "mlp = MLPClassifier(activation='relu', alpha=0.0001, batch_size='auto', beta_1=0.9,\n",
    "       beta_2=0.999, early_stopping=False, epsilon=1e-08,\n",
    "       hidden_layer_sizes=(177, 170, 150, 150, 120, 100, 80, 70, 50, 50, 40, 20, 20, 10), learning_rate='constant',\n",
    "       learning_rate_init=0.001, max_iter=200, momentum=0.9,\n",
    "       nesterovs_momentum=True, power_t=0.5, random_state=42,\n",
    "       shuffle=True, solver='adam', tol=0.0001, validation_fraction=0.1,\n",
    "       verbose=False, warm_start=False)\n",
    "mlp.fit(X_train,y_train)\n",
    "y_pred = mlp.predict(X_test)\n",
    "allmetrics(y_test,y_pred)"
   ]
  },
  {
   "cell_type": "markdown",
   "metadata": {},
   "source": [
    "### Naive Bayes"
   ]
  },
  {
   "cell_type": "markdown",
   "metadata": {},
   "source": [
    "#### Default Parameters "
   ]
  },
  {
   "cell_type": "code",
   "execution_count": 136,
   "metadata": {},
   "outputs": [
    {
     "name": "stdout",
     "output_type": "stream",
     "text": [
      "[[410  90   0   2   0]\n",
      " [ 36  88  77  64 264]\n",
      " [  4  67  99 102 241]\n",
      " [  0 112 105 147 154]\n",
      " [  0  12  79  46 382]]\n",
      "43.6265013561\n",
      "             precision    recall  f1-score   support\n",
      "\n",
      "          1       0.91      0.82      0.86       502\n",
      "          2       0.24      0.17      0.20       529\n",
      "          3       0.28      0.19      0.23       513\n",
      "          4       0.41      0.28      0.33       518\n",
      "          5       0.37      0.74      0.49       519\n",
      "\n",
      "avg / total       0.44      0.44      0.42      2581\n",
      "\n"
     ]
    }
   ],
   "source": [
    "model = GaussianNB()\n",
    "model.fit(X_train, y_train)\n",
    "y_pred = model.predict(X_test)\n",
    "allmetrics(y_test,y_pred)"
   ]
  },
  {
   "cell_type": "markdown",
   "metadata": {},
   "source": [
    "#### Naive Bayes with PCA"
   ]
  },
  {
   "cell_type": "code",
   "execution_count": 138,
   "metadata": {},
   "outputs": [
    {
     "name": "stdout",
     "output_type": "stream",
     "text": [
      "[[361 113  11   6  11]\n",
      " [ 23 117  78  49 262]\n",
      " [  1  90 106  31 285]\n",
      " [  0  63  93  54 308]\n",
      " [  0  16  60  45 398]]\n",
      "40.1394808214\n",
      "             precision    recall  f1-score   support\n",
      "\n",
      "          1       0.94      0.72      0.81       502\n",
      "          2       0.29      0.22      0.25       529\n",
      "          3       0.30      0.21      0.25       513\n",
      "          4       0.29      0.10      0.15       518\n",
      "          5       0.31      0.77      0.45       519\n",
      "\n",
      "avg / total       0.42      0.40      0.38      2581\n",
      "\n"
     ]
    }
   ],
   "source": [
    "model = GaussianNB()\n",
    "model.fit(X_trainPCA, y_trainPCA)\n",
    "y_predPCA = model.predict(X_testPCA)\n",
    "allmetrics(y_testPCA,y_predPCA)"
   ]
  },
  {
   "cell_type": "markdown",
   "metadata": {},
   "source": [
    "#### Naive Bayes with PCA50"
   ]
  },
  {
   "cell_type": "code",
   "execution_count": 140,
   "metadata": {},
   "outputs": [
    {
     "name": "stdout",
     "output_type": "stream",
     "text": [
      "[[229  72   8   3   9]\n",
      " [ 13  76  52  25 180]\n",
      " [  0  64  78  16 197]\n",
      " [  0  49  63  23 217]\n",
      " [  0  20  40  13 256]]\n",
      "38.8725778039\n",
      "             precision    recall  f1-score   support\n",
      "\n",
      "          1       0.95      0.71      0.81       321\n",
      "          2       0.27      0.22      0.24       346\n",
      "          3       0.32      0.22      0.26       355\n",
      "          4       0.29      0.07      0.11       352\n",
      "          5       0.30      0.78      0.43       329\n",
      "\n",
      "avg / total       0.42      0.39      0.36      1703\n",
      "\n"
     ]
    }
   ],
   "source": [
    "model = GaussianNB()\n",
    "model.fit(X_trainPCA50, y_trainPCA50)\n",
    "y_predPCA50 = model.predict(X_testPCA50)\n",
    "allmetrics(y_testPCA50,y_predPCA50)"
   ]
  },
  {
   "cell_type": "markdown",
   "metadata": {},
   "source": [
    "#### Naive Bayes with TSNE"
   ]
  },
  {
   "cell_type": "code",
   "execution_count": 168,
   "metadata": {},
   "outputs": [
    {
     "name": "stdout",
     "output_type": "stream",
     "text": [
      "[[321  52  56  73   0]\n",
      " [124  86 131  48 140]\n",
      " [126  57 171  23 136]\n",
      " [128  40  55 129 166]\n",
      " [ 93  23  94  53 256]]\n",
      "37.311119721\n",
      "             precision    recall  f1-score   support\n",
      "\n",
      "          1       0.41      0.64      0.50       502\n",
      "          2       0.33      0.16      0.22       529\n",
      "          3       0.34      0.33      0.34       513\n",
      "          4       0.40      0.25      0.31       518\n",
      "          5       0.37      0.49      0.42       519\n",
      "\n",
      "avg / total       0.37      0.37      0.35      2581\n",
      "\n"
     ]
    }
   ],
   "source": [
    "model = GaussianNB()\n",
    "model.fit(X_trainTSNE, y_trainTSNE)\n",
    "y_predTSNE = model.predict(X_testTSNE)\n",
    "allmetrics(y_testTSNE,y_predTSNE)"
   ]
  },
  {
   "cell_type": "markdown",
   "metadata": {},
   "source": [
    "#### Naive Bayes with Correlation Subset"
   ]
  },
  {
   "cell_type": "code",
   "execution_count": 169,
   "metadata": {},
   "outputs": [
    {
     "name": "stdout",
     "output_type": "stream",
     "text": [
      "[[406  87   1   8   0]\n",
      " [ 34  88  80  59 268]\n",
      " [  4  72  87  95 255]\n",
      " [  1 116 113 124 164]\n",
      " [  0  12  64  58 385]]\n",
      "42.2316931422\n",
      "             precision    recall  f1-score   support\n",
      "\n",
      "          1       0.91      0.81      0.86       502\n",
      "          2       0.23      0.17      0.19       529\n",
      "          3       0.25      0.17      0.20       513\n",
      "          4       0.36      0.24      0.29       518\n",
      "          5       0.36      0.74      0.48       519\n",
      "\n",
      "avg / total       0.42      0.42      0.40      2581\n",
      "\n"
     ]
    }
   ],
   "source": [
    "model = GaussianNB()\n",
    "model.fit(X_trainCorr, y_trainCorr)\n",
    "y_predCorr = model.predict(X_testCorr)\n",
    "allmetrics(y_testCorr,y_predCorr)"
   ]
  },
  {
   "cell_type": "markdown",
   "metadata": {},
   "source": [
    "#### Naive Bayes with Univariate Selection"
   ]
  },
  {
   "cell_type": "code",
   "execution_count": 319,
   "metadata": {},
   "outputs": [],
   "source": [
    "rows_list = []\n",
    "###### Highest value is 175 with 43.781480\n",
    "for i in range(1,178): \n",
    "    X_kbest = SelectKBest(f_classif, k=i).fit_transform(X, Y)\n",
    "    X_trainK, X_testK, y_trainK, y_testK = train_test_split( X_kbest, Y, test_size = 0.34, random_state = 42)\n",
    "    X_trainK, X_valK, y_trainK, y_valK = train_test_split( X_trainK, y_trainK, test_size = 0.34, random_state = 42)\n",
    "    \n",
    "    model = GaussianNB()\n",
    "    model.fit(X_trainK, y_trainK)\n",
    "    y_predK = model.predict(X_testK)\n",
    "    \n",
    "    dict1 = {\"acc\": metrics.accuracy_score(y_testK,y_predK)*100, \n",
    "            \"ind\": i}\n",
    "    \n",
    "    rows_list.append(dict1)\n",
    "    #print(metrics.accuracy_score(y_testK,y_predK)*100, i)\n",
    "    #allmetrics(y_testK,y_predK)\n",
    "dfNB = pd.DataFrame(rows_list)  \n"
   ]
  },
  {
   "cell_type": "code",
   "execution_count": 324,
   "metadata": {},
   "outputs": [
    {
     "data": {
      "image/png": "[encoded data removed]",
      "text/plain": [
       "<matplotlib.figure.Figure at 0x280b428ad30>"
      ]
     },
     "metadata": {},
     "output_type": "display_data"
    }
   ],
   "source": [
    "plt.plot(dfNB['ind'], dfNB['acc'])\n",
    "plt.show()"
   ]
  },
  {
   "cell_type": "code",
   "execution_count": 327,
   "metadata": {},
   "outputs": [
    {
     "name": "stdout",
     "output_type": "stream",
     "text": [
      "[[411  89   0   2   0]\n",
      " [ 36  87  77  65 264]\n",
      " [  4  66 100 103 240]\n",
      " [  0 108 105 150 155]\n",
      " [  0  12  79  46 382]]\n",
      "43.7814800465\n",
      "             precision    recall  f1-score   support\n",
      "\n",
      "          1       0.91      0.82      0.86       502\n",
      "          2       0.24      0.16      0.20       529\n",
      "          3       0.28      0.19      0.23       513\n",
      "          4       0.41      0.29      0.34       518\n",
      "          5       0.37      0.74      0.49       519\n",
      "\n",
      "avg / total       0.44      0.44      0.42      2581\n",
      "\n"
     ]
    }
   ],
   "source": [
    "X_kbest = SelectKBest(f_classif, k=175).fit_transform(X, Y)\n",
    "X_trainK, X_testK, y_trainK, y_testK = train_test_split( X_kbest, Y, test_size = 0.34, random_state = 42)\n",
    "X_trainK, X_valK, y_trainK, y_valK = train_test_split( X_trainK, y_trainK, test_size = 0.34, random_state = 42)\n",
    "\n",
    "model = GaussianNB()\n",
    "model.fit(X_trainK, y_trainK)\n",
    "y_predK = model.predict(X_testK)\n",
    "allmetrics(y_testK, y_predK)"
   ]
  }
 ],
 "metadata": {
  "kernelspec": {
   "display_name": "Python 3",
   "language": "python",
   "name": "python3"
  },
  "language_info": {
   "codemirror_mode": {
    "name": "ipython",
    "version": 3
   },
   "file_extension": ".py",
   "mimetype": "text/x-python",
   "name": "python",
   "nbconvert_exporter": "python",
   "pygments_lexer": "ipython3",
   "version": "3.6.3"
  }
 },
 "nbformat": 4,
 "nbformat_minor": 2
}
